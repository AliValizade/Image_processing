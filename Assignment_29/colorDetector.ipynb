{
 "cells": [
  {
   "cell_type": "code",
   "execution_count": 1,
   "id": "2884405f",
   "metadata": {},
   "outputs": [],
   "source": [
    "import cv2\n",
    "import numpy as np"
   ]
  },
  {
   "cell_type": "code",
   "execution_count": 2,
   "id": "a0192684",
   "metadata": {},
   "outputs": [],
   "source": [
    "# Dictionary of color ranges\n",
    "color_ranges = {\n",
    "    'white': ([0, 0, 200], [180, 30, 255]),\n",
    "    'gray': ([0, 0, 100], [180, 50, 199]),\n",
    "    'black': ([0, 0, 0], [180, 255, 50]),\n",
    "    'blue': ([90, 50, 50], [150, 255, 255]),\n",
    "    'red': ([0, 50, 50], [10, 255, 255]),\n",
    "    'green': ([40, 50, 50], [80, 255, 255]),\n",
    "    'magenta': ([140, 50, 50], [170, 255, 255]),\n",
    "    'yellow': ([20, 50, 50], [40, 255, 255]),\n",
    "    'turquoise': ([80, 50, 50], [100, 255, 255])\n",
    "}"
   ]
  },
  {
   "cell_type": "code",
   "execution_count": 3,
   "id": "99be11f1",
   "metadata": {},
   "outputs": [],
   "source": [
    "def detect_color(frame):\n",
    "    hsv_frame = cv2.cvtColor(frame, cv2.COLOR_BGR2HSV)\n",
    "    \n",
    "    for color, (lower, upper) in color_ranges.items():\n",
    "        lower = np.array(lower, dtype=np.uint8)\n",
    "        upper = np.array(upper, dtype=np.uint8)\n",
    "        \n",
    "        mask = cv2.inRange(hsv_frame, lower, upper)\n",
    "        contours, _ = cv2.findContours(mask, cv2.RETR_EXTERNAL, cv2.CHAIN_APPROX_SIMPLE)\n",
    "        \n",
    "        if contours:\n",
    "            largest_contour = max(contours, key=cv2.contourArea)\n",
    "            moments = cv2.moments(largest_contour)\n",
    "            \n",
    "            # m00 is total Area of the countor\n",
    "            # m10 is sum of all x-coordinates of contour points\n",
    "            # m01 is sum of all y-coordinates of contour points\n",
    "            if moments[\"m00\"] != 0:\n",
    "                cx = int(moments[\"m10\"] / moments[\"m00\"]) \n",
    "                cy = int(moments[\"m01\"] / moments[\"m00\"])\n",
    "                cv2.putText(frame, color, (cx, cy), cv2.FONT_HERSHEY_SIMPLEX, 0.5, (255, 255, 255), 2)\n",
    "    \n",
    "    return frame"
   ]
  },
  {
   "cell_type": "code",
   "execution_count": 4,
   "id": "cff7302e",
   "metadata": {},
   "outputs": [],
   "source": [
    "cap = cv2.VideoCapture('input/color.mp4')\n",
    "\n",
    "fourcc = cv2.VideoWriter_fourcc(*'mp4v')\n",
    "out = cv2.VideoWriter('output/color_detection_output.mp4', fourcc, 20.0, (int(cap.get(3)), int(cap.get(4))))"
   ]
  },
  {
   "cell_type": "code",
   "execution_count": 5,
   "id": "e29818c4",
   "metadata": {},
   "outputs": [],
   "source": [
    "while True:\n",
    "    ret, frame = cap.read()\n",
    "    if not ret:\n",
    "        break\n",
    "    frame = cv2.resize(frame, (0, 0), fx=0.5, fy=0.5)\n",
    "    frame = detect_color(frame)\n",
    "    # Write the frame to the output video\n",
    "    out.write(frame)\n",
    "    \n",
    "    cv2.imshow('Color Detection', frame)\n",
    "    \n",
    "    if cv2.waitKey(1) & 0xFF == ord('q'):\n",
    "        break\n",
    "\n",
    "cap.release()\n",
    "out.release()\n",
    "cv2.destroyAllWindows()"
   ]
  },
  {
   "cell_type": "code",
   "execution_count": null,
   "id": "843b050b",
   "metadata": {},
   "outputs": [],
   "source": []
  }
 ],
 "metadata": {
  "kernelspec": {
   "display_name": "Python 3 (ipykernel)",
   "language": "python",
   "name": "python3"
  },
  "language_info": {
   "codemirror_mode": {
    "name": "ipython",
    "version": 3
   },
   "file_extension": ".py",
   "mimetype": "text/x-python",
   "name": "python",
   "nbconvert_exporter": "python",
   "pygments_lexer": "ipython3",
   "version": "3.9.13"
  }
 },
 "nbformat": 4,
 "nbformat_minor": 5
}
