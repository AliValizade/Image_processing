{
 "cells": [
  {
   "cell_type": "code",
   "execution_count": 1,
   "id": "7b7bb289",
   "metadata": {},
   "outputs": [],
   "source": [
    "import cv2\n",
    "import numpy as np"
   ]
  },
  {
   "cell_type": "code",
   "execution_count": 2,
   "id": "28c803a7",
   "metadata": {},
   "outputs": [],
   "source": [
    "def replace_color(img, target_color, replacement_color):\n",
    "    mask = np.all(img == target_color, axis=2)\n",
    "    img[mask] = replacement_color\n",
    "    return img"
   ]
  },
  {
   "cell_type": "code",
   "execution_count": 3,
   "id": "ad8461ab",
   "metadata": {},
   "outputs": [],
   "source": [
    "img = cv2.imread('input/rubic.PNG')"
   ]
  },
  {
   "cell_type": "code",
   "execution_count": 4,
   "id": "c6f6fe48",
   "metadata": {},
   "outputs": [],
   "source": [
    "color_mappings = {\n",
    "    (0, 255, 255): [255, 0, 0],   # to Blue\n",
    "    (255, 0, 255): [0, 255, 0],   # to Green\n",
    "    (255, 255, 0): [0, 0, 255]    # to Red\n",
    "}"
   ]
  },
  {
   "cell_type": "code",
   "execution_count": 5,
   "id": "e18a3e70",
   "metadata": {},
   "outputs": [
    {
     "data": {
      "text/plain": [
       "True"
      ]
     },
     "execution_count": 5,
     "metadata": {},
     "output_type": "execute_result"
    }
   ],
   "source": [
    "for target_color, replacement_color in color_mappings.items():\n",
    "    img = replace_color(img, target_color, replacement_color)\n",
    "\n",
    "    cv2.imshow('1', img)\n",
    "    cv2.waitKey()\n",
    "cv2.imwrite('output/solved-rubic.jpg', img)"
   ]
  },
  {
   "cell_type": "code",
   "execution_count": null,
   "id": "9cf31adf",
   "metadata": {},
   "outputs": [],
   "source": []
  }
 ],
 "metadata": {
  "kernelspec": {
   "display_name": "Python 3 (ipykernel)",
   "language": "python",
   "name": "python3"
  },
  "language_info": {
   "codemirror_mode": {
    "name": "ipython",
    "version": 3
   },
   "file_extension": ".py",
   "mimetype": "text/x-python",
   "name": "python",
   "nbconvert_exporter": "python",
   "pygments_lexer": "ipython3",
   "version": "3.9.13"
  }
 },
 "nbformat": 4,
 "nbformat_minor": 5
}
