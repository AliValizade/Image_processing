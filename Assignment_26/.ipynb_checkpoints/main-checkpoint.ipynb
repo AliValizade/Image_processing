{
 "cells": [
  {
   "cell_type": "code",
   "execution_count": 31,
   "id": "7b72705a",
   "metadata": {},
   "outputs": [],
   "source": [
    "import cv2\n",
    "import numpy as np\n",
    "import time\n",
    "import matplotlib.pyplot as plt"
   ]
  },
  {
   "cell_type": "code",
   "execution_count": 32,
   "id": "deb0622c",
   "metadata": {},
   "outputs": [],
   "source": [
    "img = cv2.imread('input/flower_input.jpg', 0)"
   ]
  },
  {
   "cell_type": "markdown",
   "id": "25d54d4f",
   "metadata": {},
   "source": [
    "# Convolution with for loop"
   ]
  },
  {
   "cell_type": "code",
   "execution_count": 33,
   "id": "166edce1",
   "metadata": {},
   "outputs": [
    {
     "name": "stdout",
     "output_type": "stream",
     "text": [
      "0.0010061264038085938\n"
     ]
    },
    {
     "data": {
      "text/plain": [
       "True"
      ]
     },
     "execution_count": 33,
     "metadata": {},
     "output_type": "execute_result"
    }
   ],
   "source": [
    "mask = np.ones((3, 3)) / 9\n",
    "result = np.zeros(img.shape)\n",
    "\n",
    "rows, cols = img.shape\n",
    "\n",
    "start_time = time.time()\n",
    "for i in range(1, rows-1):\n",
    "    for j in range(1 - cols-1):\n",
    "        small_img = img[i-1:i+2, j-1:j+2]\n",
    "        result[i, j] = np.sum(small_img * mask)\n",
    "end_time = time.time()\n",
    "print(end_time - start_time)\n",
    "\n",
    "cv2.imwrite('output/img-out.jpg', result)"
   ]
  },
  {
   "cell_type": "markdown",
   "id": "6ebf78e0",
   "metadata": {},
   "source": [
    "# Convolution with openCV function"
   ]
  },
  {
   "cell_type": "code",
   "execution_count": 34,
   "id": "05522a2b",
   "metadata": {},
   "outputs": [
    {
     "name": "stdout",
     "output_type": "stream",
     "text": [
      "0.008002042770385742\n"
     ]
    },
    {
     "data": {
      "text/plain": [
       "True"
      ]
     },
     "execution_count": 34,
     "metadata": {},
     "output_type": "execute_result"
    }
   ],
   "source": [
    "mask = np.ones((3, 3)) / 9\n",
    "\n",
    "start_time = time.time()\n",
    "result = cv2.filter2D(img, -1, mask)\n",
    "end_time = time.time()\n",
    "print(end_time - start_time)\n",
    "\n",
    "cv2.imwrite('output/img-out.jpg', result)"
   ]
  },
  {
   "cell_type": "markdown",
   "id": "ec46ebd5",
   "metadata": {},
   "source": [
    "# Histogram"
   ]
  },
  {
   "cell_type": "code",
   "execution_count": 35,
   "id": "a1761c1b",
   "metadata": {},
   "outputs": [
    {
     "name": "stdout",
     "output_type": "stream",
     "text": [
      "[   60   199  1040  1012  1314  1856  5485  3779  4754  6321 14563 10533\n",
      " 11635 13885 26484 16510 16760 18279 31548 19470 19001 19466 26526 19800\n",
      " 19743 20116 26452 20510 20798 15247 40927 17108 25760 28107 38568 16981\n",
      " 24324 14976 22445 28301 18210 10791 10388 20017 13865  8687 12661  8225\n",
      " 16615  6741  5538  7849  4307  4012  7377  3315  2952  2893  4094  3873\n",
      "  2267  2161  3190  1900  1825  2701  1554  1510  2241  1304  1218  1151\n",
      "  1729   999   912   833   832   728   770   722  1091   627   575   567\n",
      "   519   505   455   483   372   201   383   568   346   331   333   295\n",
      "   161   266   275   263   273   244   132   217   229   236   215   128\n",
      "   205   207   196   115   190   195   173   114   182   206   196   110\n",
      "   170   155   106   139   172   159   107   154   132    84   145   136\n",
      "   104   140   149   100   154   132   129   145   163   110   107   192\n",
      "   159    85   144   151   146   172   159   159   155   143   171   193\n",
      "   188   188   213   203   206   215   237   248   286   274   267   295\n",
      "   306   333   317   341   400   416   373   417   477   444   448   577\n",
      "   659   618   574   559   640   629   623   673   672   737   666   738\n",
      "   744   775   818   890   828   867   971  1023  1081  1010  1008  1068\n",
      "  1112  1110  1072  1118  1021  1124  1207  1172  1061  1225  1256  1290\n",
      "  1297  1203  1211  1220  1116  1087  1206  1280  1093  1038  1108  1018\n",
      "   930   949   958   881   835   828   762   794   759   799   745   715\n",
      "   714   675   739   703   717   824   896   886   907  1247  1515  1600\n",
      "  1793  3659  5401 22484]\n"
     ]
    }
   ],
   "source": [
    "hist = np.zeros((256), dtype=int)\n",
    "\n",
    "rows, cols = img.shape\n",
    "for i in range(rows):\n",
    "    for j in range(cols):\n",
    "        index = img[i, j]\n",
    "        hist[index] += 1\n",
    "print(hist)"
   ]
  },
  {
   "cell_type": "code",
   "execution_count": null,
   "id": "a37fe63f",
   "metadata": {},
   "outputs": [],
   "source": []
  }
 ],
 "metadata": {
  "kernelspec": {
   "display_name": "Python 3 (ipykernel)",
   "language": "python",
   "name": "python3"
  },
  "language_info": {
   "codemirror_mode": {
    "name": "ipython",
    "version": 3
   },
   "file_extension": ".py",
   "mimetype": "text/x-python",
   "name": "python",
   "nbconvert_exporter": "python",
   "pygments_lexer": "ipython3",
   "version": "3.9.13"
  }
 },
 "nbformat": 4,
 "nbformat_minor": 5
}
