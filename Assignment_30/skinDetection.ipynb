{
 "cells": [
  {
   "cell_type": "code",
   "execution_count": 6,
   "id": "560f404d",
   "metadata": {},
   "outputs": [],
   "source": [
    "import cv2 as cv\n",
    "import matplotlib.pyplot as plt\n",
    "import numpy as np"
   ]
  },
  {
   "cell_type": "code",
   "execution_count": 10,
   "id": "ecc0d940",
   "metadata": {},
   "outputs": [],
   "source": [
    "def skinDetector(img):\n",
    "    frameHSV = cv.cvtColor(img, cv.COLOR_BGR2HSV)\n",
    "    lower_skin = np.array([0, 10, 50], dtype=np.uint8)\n",
    "    upper_skin = np.array([20, 255, 255], dtype=np.uint8)\n",
    "    skin_musk = cv.inRange(frameHSV, lower_skin, upper_skin)\n",
    "    skin_detected = cv.bitwise_and(img, img, mask=skin_musk)\n",
    "    return skin_detected"
   ]
  },
  {
   "cell_type": "code",
   "execution_count": 11,
   "id": "94e3b457",
   "metadata": {},
   "outputs": [],
   "source": [
    "cap = cv.VideoCapture('input/video.mp4')"
   ]
  },
  {
   "cell_type": "code",
   "execution_count": 12,
   "id": "1ae1c5e6",
   "metadata": {},
   "outputs": [],
   "source": [
    "while True:\n",
    "    ret, frame = cap.read()\n",
    "    if not ret:\n",
    "        break\n",
    "    frame = cv.resize(frame, (0, 0), fx=0.5, fy=0.5)\n",
    "    result_frame = skinDetector(frame)\n",
    "    cv.imshow('output video', result_frame)\n",
    "    if cv.waitKey(1) & 0xFF == ord('q'):\n",
    "        break\n",
    "cap.release()\n",
    "cv.destroyAllWindows()"
   ]
  },
  {
   "cell_type": "code",
   "execution_count": null,
   "id": "58de5683",
   "metadata": {},
   "outputs": [],
   "source": []
  }
 ],
 "metadata": {
  "kernelspec": {
   "display_name": "Python 3 (ipykernel)",
   "language": "python",
   "name": "python3"
  },
  "language_info": {
   "codemirror_mode": {
    "name": "ipython",
    "version": 3
   },
   "file_extension": ".py",
   "mimetype": "text/x-python",
   "name": "python",
   "nbconvert_exporter": "python",
   "pygments_lexer": "ipython3",
   "version": "3.9.13"
  }
 },
 "nbformat": 4,
 "nbformat_minor": 5
}
